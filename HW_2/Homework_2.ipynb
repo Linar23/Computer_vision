{
 "cells": [
  {
   "cell_type": "code",
   "execution_count": 63,
   "metadata": {},
   "outputs": [
    {
     "name": "stdout",
     "output_type": "stream",
     "text": [
      "[ 1.37038812 -0.59996129  0.99204188 -1.09827811  0.68119707]\n",
      "[  6.79594146e-04   6.79594146e-04   1.56178255e-03   9.96399435e-01\n",
      "   6.79594146e-04]\n"
     ]
    }
   ],
   "source": [
    "import numpy as np\n",
    "\n",
    "class MLP:\n",
    "    def __init__(self, x, L, M, N, K, type_of_net):\n",
    "        self.x = x\n",
    "        \n",
    "        self.L = L\n",
    "        self.M = M\n",
    "        self.N = N\n",
    "        self.K = K\n",
    "        \n",
    "        self.type_of_net = type_of_net\n",
    "\n",
    "    def ReLU(self, a):\n",
    "        return np.maximum(0, self.a)\n",
    "\n",
    "    def softmax(x):\n",
    "        e_x = np.exp(x)\n",
    "        \n",
    "        return e_x / e_x.sum()\n",
    "    \n",
    "    def initialize_weights(self):  \n",
    "        self.list_of_W = []\n",
    "        \n",
    "        for i in range(self.L-1):\n",
    "            if i == 0:\n",
    "                W = np.random.randn(self.M, self.N)\n",
    "            elif i == self.L - 1:\n",
    "                W = np.random.randn(self.N, self.K)\n",
    "            else:\n",
    "                W = np.random.randn(self.N, self.N)\n",
    "            self.list_of_W.append(W)\n",
    "            \n",
    "        self.list_of_bias = []\n",
    "\n",
    "        for i in range(self.L-1):\n",
    "            if i == 0:\n",
    "                W = np.random.randn(self.N - 1)\n",
    "            elif i == self.L - 1:\n",
    "                W = np.random.randn(self.K - 1)\n",
    "            else:\n",
    "                W = np.random.randn(self.M - 1)\n",
    "            self.list_of_bias.append(b)\n",
    "\n",
    "        return self.list_of_W, self.list_of_bias\n",
    "    \n",
    "    def forward_propagation(self):\n",
    "        for i in range(self.L - 1):\n",
    "            if i == 0:\n",
    "                z_new = x\n",
    "                z = z_new\n",
    "            else:\n",
    "                z_new = ReLU(np.dot(self.list_of_W[i],z) + self.list_of_bias[i])\n",
    "                z = z_new\n",
    "                \n",
    "        if self.type_of_net == \"Regressor\":\n",
    "            return z\n",
    "        elif self.type_of_net == \"Classifier\":\n",
    "            return softmax(z)\n",
    "        \n",
    "# Входной вектор    \n",
    "x = np.random.randn(5)\n",
    "# Количество слоев\n",
    "L = 4\n",
    "# Нейронов во входном слое\n",
    "M = x.shape[0]\n",
    "# Нейронов в скрытых слоях\n",
    "N = 5\n",
    "# Нейронов в выходном слое\n",
    "K = 3\n",
    "\n",
    "myMLP = MLP(x, L, M, N, K, \"Classifier\")\n",
    "\n",
    "myMLP.initialize_weights()\n",
    "\n",
    "result = myMLP.forward_propagation()\n",
    "print(result)"
   ]
  },
  {
   "cell_type": "code",
   "execution_count": null,
   "metadata": {
    "collapsed": true
   },
   "outputs": [],
   "source": []
  }
 ],
 "metadata": {
  "kernelspec": {
   "display_name": "Python 3",
   "language": "python",
   "name": "python3"
  },
  "language_info": {
   "codemirror_mode": {
    "name": "ipython",
    "version": 3
   },
   "file_extension": ".py",
   "mimetype": "text/x-python",
   "name": "python",
   "nbconvert_exporter": "python",
   "pygments_lexer": "ipython3",
   "version": "3.5.4"
  }
 },
 "nbformat": 4,
 "nbformat_minor": 2
}
