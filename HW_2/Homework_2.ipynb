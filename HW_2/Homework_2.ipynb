{
 "cells": [
  {
   "cell_type": "code",
   "execution_count": 65,
   "metadata": {},
   "outputs": [
    {
     "name": "stdout",
     "output_type": "stream",
     "text": [
      "[ 0.53406954  0.33129658  0.09062051  0.03552291  0.00849046]\n"
     ]
    }
   ],
   "source": [
    "import numpy as np\n",
    "\n",
    "class MLP:\n",
    "    # Входной вектор, количество слоев, нейронов во входном слое, нейронов в скрытых слоях, нейронов в выходном слое, тип сети\n",
    "    def __init__(self, x, L, M, N, K, type_of_net):\n",
    "        self.x = x\n",
    "        \n",
    "        self.L = L\n",
    "        self.M = M\n",
    "        self.N = N\n",
    "        self.K = K\n",
    "        \n",
    "        self.type_of_net = type_of_net\n",
    "\n",
    "    def ReLU(self, a):\n",
    "        return np.maximum(0, a)\n",
    "\n",
    "    def softmax(self, x):\n",
    "        e_x = np.exp(x)\n",
    "        \n",
    "        return e_x / e_x.sum()\n",
    "    \n",
    "    def initialize_weights(self):  \n",
    "        self.list_of_W = []\n",
    "        \n",
    "        for i in range(self.L - 1):\n",
    "            if i == 0:\n",
    "                W = np.random.randn(self.M, self.N)\n",
    "            elif i == self.L - 2:\n",
    "                W = np.random.randn(self.N, self.K)\n",
    "            else:\n",
    "                W = np.random.randn(self.N, self.N)\n",
    "            self.list_of_W.append(W)\n",
    "            \n",
    "        self.list_of_bias = []\n",
    "\n",
    "        for i in range(self.L - 1):\n",
    "            if i == 0:\n",
    "                b = np.random.randn(self.M)\n",
    "            elif i == self.L - 2:\n",
    "                b = np.random.randn(self.K)\n",
    "            else:\n",
    "                b = np.random.randn(self.N)\n",
    "            self.list_of_bias.append(b)\n",
    "\n",
    "        return self.list_of_W, self.list_of_bias\n",
    "    \n",
    "    def forward_propagation(self):\n",
    "        for i in range(self.L - 1):\n",
    "            if i == 0:\n",
    "                z_new = x\n",
    "                z = z_new\n",
    "            else:\n",
    "                z_new = self.ReLU(np.dot(self.list_of_W[i].transpose(),z) + self.list_of_bias[i])\n",
    "                z = z_new\n",
    "                \n",
    "        if self.type_of_net == \"Regressor\":\n",
    "            return z\n",
    "        elif self.type_of_net == \"Classifier\":\n",
    "            return self.softmax(z)\n",
    "        \n",
    "# Входной вектор    \n",
    "x = np.random.randn(5)\n",
    "# Количество слоев\n",
    "L = 5\n",
    "# Нейронов во входном слое\n",
    "M = x.shape[0]\n",
    "# Нейронов в скрытых слоях\n",
    "N = 5\n",
    "# Нейронов в выходном слое\n",
    "K = 5\n",
    "\n",
    "myMLP = MLP(x, L, M, N, K, \"Classifier\")\n",
    "#myMLP = MLP(x, L, M, N, K, \"Regressor\")\n",
    "\n",
    "myMLP.initialize_weights()\n",
    "\n",
    "result = myMLP.forward_propagation()\n",
    "print(result)"
   ]
  },
  {
   "cell_type": "code",
   "execution_count": null,
   "metadata": {
    "collapsed": true
   },
   "outputs": [],
   "source": []
  }
 ],
 "metadata": {
  "kernelspec": {
   "display_name": "Python 3",
   "language": "python",
   "name": "python3"
  }
 },
 "nbformat": 4,
 "nbformat_minor": 2
}
