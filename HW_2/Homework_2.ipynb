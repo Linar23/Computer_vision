{
 "cells": [
  {
   "cell_type": "code",
   "execution_count": 22,
   "metadata": {},
   "outputs": [
    {
     "name": "stdout",
     "output_type": "stream",
     "text": [
      "[[  2.97676779e-08]\n",
      " [  5.51168547e-07]\n",
      " [  2.65302059e-05]\n",
      " [  2.97676779e-08]\n",
      " [  6.98021153e-08]\n",
      " [  9.99972588e-01]\n",
      " [  2.97676779e-08]\n",
      " [  2.97676779e-08]\n",
      " [  1.12180787e-07]\n",
      " [  2.97676779e-08]]\n"
     ]
    }
   ],
   "source": [
    "import numpy as np\n",
    "\n",
    "class MLP:\n",
    "    def __init__(self, neurons_per_layer, type_of_net):\n",
    "        self.layers = len(neurons_per_layer)\n",
    "        self.neurons_per_layer = neurons_per_layer\n",
    "        \n",
    "        # weights and biases initialization\n",
    "        self.biases = [np.random.normal(0, 1, (M_l, 1)) \n",
    "                       for M_l in neurons_per_layer[1:]]\n",
    "        self.weights = [np.random.normal(0, 1, (M_l, M_l_1)) \n",
    "                        for M_l_1, M_l in zip(neurons_per_layer[:-1], neurons_per_layer[1:])]\n",
    "        \n",
    "        self.type_of_net = type_of_net\n",
    "    \n",
    "    def forward_propagation(self, a):\n",
    "        for bias, weight in zip(self.biases, self.weights):\n",
    "            a = ReLU(np.dot(weight, a) + bias)\n",
    "        \n",
    "        if self.type_of_net == \"Regressor\":\n",
    "            return a\n",
    "        elif self.type_of_net == \"Classifier\":\n",
    "            return softmax(a)\n",
    "\n",
    "def ReLU(z):\n",
    "    return np.maximum(0, z)\n",
    "\n",
    "def softmax(x):\n",
    "    e_x = np.exp(x)\n",
    "        \n",
    "    return e_x / e_x.sum()\n",
    "\n",
    "# Входной вектор    \n",
    "x = np.random.randn(5)[np.newaxis, :].transpose()\n",
    "\n",
    "myMLP = MLP([5, 30, 10], \"Classifier\")\n",
    "#myMLP = MLP([5, 30, 10], \"Regressor\")\n",
    "\n",
    "result = myMLP.forward_propagation(x)\n",
    "print(result)"
   ]
  },
  {
   "cell_type": "code",
   "execution_count": null,
   "metadata": {
    "collapsed": true
   },
   "outputs": [],
   "source": []
  }
 ],
 "metadata": {
  "kernelspec": {
   "display_name": "Python 3",
   "language": "python",
   "name": "python3"
  },
  "language_info": {
   "codemirror_mode": {
    "name": "ipython",
    "version": 3
   },
   "file_extension": ".py",
   "mimetype": "text/x-python",
   "name": "python",
   "nbconvert_exporter": "python",
   "pygments_lexer": "ipython3",
   "version": "3.5.4"
  }
 },
 "nbformat": 4,
 "nbformat_minor": 2
}
